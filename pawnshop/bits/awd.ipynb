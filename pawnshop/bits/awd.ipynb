{
 "cells": [
  {
   "cell_type": "code",
   "execution_count": 6,
   "metadata": {},
   "outputs": [
    {
     "name": "stdout",
     "output_type": "stream",
     "text": [
      "Link with message: https://wa.me/+919008603331?text=Hello%20papa%20ji.\n",
      "Link without message: https://wa.me/+919008603331\n"
     ]
    }
   ],
   "source": [
    "import urllib.parse\n",
    "\n",
    "def generate_whatsapp_link(phone_number, message=None):\n",
    "    \"\"\"\n",
    "    Generates a WhatsApp click-to-chat link.\n",
    "\n",
    "    Args:\n",
    "        phone_number: The recipient's phone number with country code, \n",
    "                      but without '+' or leading zeros.\n",
    "        message: (Optional) Pre-filled message in the chat.\n",
    "\n",
    "    Returns:\n",
    "        The generated WhatsApp click-to-chat link.\n",
    "    \"\"\"\n",
    "    base_url = \"https://wa.me/\"\n",
    "    \n",
    "    if message:\n",
    "      encoded_message = urllib.parse.quote(message)\n",
    "      url = f\"{base_url}{phone_number}?text={encoded_message}\"\n",
    "    else:\n",
    "      url = f\"{base_url}{phone_number}\"\n",
    "    return url\n",
    "\n",
    "# Example usage:\n",
    "phone_number = \"+919008603331\"  # Replace with the actual phone number\n",
    "message = \"Hello papa ji.\"\n",
    "link_with_message = generate_whatsapp_link(phone_number, message)\n",
    "link_without_message = generate_whatsapp_link(phone_number)\n",
    "\n",
    "print(\"Link with message:\", link_with_message)\n",
    "print(\"Link without message:\", link_without_message)"
   ]
  },
  {
   "cell_type": "code",
   "execution_count": null,
   "metadata": {},
   "outputs": [
    {
     "name": "stdout",
     "output_type": "stream",
     "text": [
      "VAa482f4daa1cc4b83902fc7ce94a9792f\n"
     ]
    }
   ],
   "source": [
    "# Download the helper library from https://www.twilio.com/docs/python/install\n",
    "import os\n",
    "from twilio.rest import Client\n",
    "\n",
    "# Find your Account SID and Auth Token at twilio.com/console\n",
    "# and set the environment variables. See http://twil.io/secure\n",
    "account_sid = 'ACb5a924eede6cc844ea94a1147e08de53'\n",
    "auth_token = 'cb58f14f6cbdf44aea164852331fd1a2'\n",
    "client = Client(account_sid, auth_token)\n",
    "\n",
    "service = client.verify.v2.services.create(\n",
    "    friendly_name=\"My First Verify Service\"\n",
    ")\n",
    "\n",
    "print(service.sid)"
   ]
  },
  {
   "cell_type": "code",
   "execution_count": 18,
   "metadata": {},
   "outputs": [
    {
     "name": "stdout",
     "output_type": "stream",
     "text": [
      "TwilioRestException occurred: HTTP 400 error. Invalid parameter: Unable to create record: Invalid parameter `To`: +9190083603331\n",
      "Verification SID: pending\n"
     ]
    }
   ],
   "source": [
    "import os\n",
    "from twilio.rest import Client\n",
    "from twilio.base.exceptions import TwilioRestException\n",
    "\n",
    "# Initialize Twilio client\n",
    "client = Client(account_sid, auth_token)\n",
    "\n",
    "# Replace with your Verify Service SID\n",
    "verify_service_sid = service.sid\n",
    "\n",
    "# Phone number to verify (in E.164 format)\n",
    "phone_number = \"+9190083603331\"\n",
    "\n",
    "try:\n",
    "    verification = client.verify.v2.services(verify_service_sid).verifications.create(\n",
    "        to=phone_number,\n",
    "        channel='whatsapp'\n",
    "    )\n",
    "    print(f\"Verification SID: {verification.sid}\")\n",
    "except TwilioRestException as e:\n",
    "    if e.status == 400:\n",
    "        print(f\"TwilioRestException occurred: HTTP 400 error. Invalid parameter: {e.msg}\")\n",
    "    else:\n",
    "        print(f\"TwilioRestException occurred: {e}\")\n",
    "except Exception as e:\n",
    "    print(f\"An unexpected error occurred: {e}\")\n",
    "\n",
    "\n",
    "print(f\"Verification SID: {verification.status}\")\n"
   ]
  },
  {
   "cell_type": "code",
   "execution_count": 9,
   "metadata": {},
   "outputs": [
    {
     "name": "stdout",
     "output_type": "stream",
     "text": [
      "pending\n"
     ]
    }
   ],
   "source": [
    "# Download the helper library from https://www.twilio.com/docs/python/install\n",
    "import os\n",
    "from twilio.rest import Client\n",
    "\n",
    "# Find your Account SID and Auth Token at twilio.com/console\n",
    "# and set the environment variables. See http://twil.io/secure\n",
    "client = Client(account_sid, auth_token)\n",
    "\n",
    "verification = client.verify.v2.services(\n",
    "    service.sid\n",
    ").verifications.create(to=\"+919008603331\", channel=\"sms\")\n",
    "\n",
    "print(verification.status)"
   ]
  },
  {
   "cell_type": "code",
   "execution_count": null,
   "metadata": {},
   "outputs": [
    {
     "name": "stderr",
     "output_type": "stream",
     "text": [
      "C:\\Users\\vishr\\AppData\\Local\\Temp\\ipykernel_20748\\1948848128.py:13: DeprecationWarning: services is deprecated. Use v2.services instead.\n",
      "  verification = client.verify.services(verify_service_sid) \\\n"
     ]
    },
    {
     "name": "stdout",
     "output_type": "stream",
     "text": [
      "Error verifying +919008603331: HTTP 401 error: Unable to create record: Authentication Error - No credentials provided\n",
      "Could not send WhatsApp verification code to +919008603331\n"
     ]
    }
   ],
   "source": [
    "import os\n",
    "from twilio.rest import Client\n",
    "\n",
    "# Your Account SID and Auth Token from twilio.com/console\n",
    "account_sid = 'ACb5a924eede6cc844ea94a1147e08de53' # Replace with your Twilio Account SID\n",
    "auth_token = 'cb58f14f6cbdf44aea164852331fd1a2' # Replace with your Twilio Auth Token\n",
    "awdawd = 'AQW5YSU8CG4GXUDL37G61RVP' # Replace with your Twilio Verify Service SID\n",
    "Client(account_sid, auth_token)\n",
    "\n",
    "client = Client(account_sid, auth_token)\n",
    "\n",
    "def verify_whatsapp_number(phone_number):\n",
    "    try:\n",
    "        verification = client.verify.services(verify_service_sid) \\\n",
    "            .verifications \\\n",
    "            .create(to=phone_number, channel='whatsapp')\n",
    "        print(f\"Verification initiated for {phone_number} with status: {verification.status}\")\n",
    "        return True\n",
    "    except Exception as e:\n",
    "        print(f\"Error verifying {phone_number}: {e}\")\n",
    "        return False\n",
    "\n",
    "# Example usage\n",
    "phone_number_to_verify = '+919008603331'  # Replace with the phone number you want to verify (E.164 format)\n",
    "if verify_whatsapp_number(phone_number_to_verify):\n",
    "    print(f\"A WhatsApp verification code has been sent to {phone_number_to_verify}\")\n",
    "else:\n",
    "    print(f\"Could not send WhatsApp verification code to {phone_number_to_verify}\")\n"
   ]
  },
  {
   "cell_type": "code",
   "execution_count": 3,
   "metadata": {},
   "outputs": [
    {
     "name": "stdout",
     "output_type": "stream",
     "text": [
      "Please ensure all environment variables are set.\n"
     ]
    }
   ],
   "source": [
    "import os\n",
    "from twilio.rest import Client\n",
    "\n",
    "# Ensure these environment variables are set\n",
    "account_sid = os.environ.get(\"TWILIO_ACCOUNT_SID\")\n",
    "auth_token = os.environ.get(\"TWILIO_AUTH_TOKEN\")\n",
    "verify_service_sid = os.environ.get(\"TWILIO_VERIFY_SERVICE_SID\")\n",
    "\n",
    "# Check if credentials are being retrieved\n",
    "if not account_sid or not auth_token or not verify_service_sid:\n",
    "    print(\"Please ensure all environment variables are set.\")\n",
    "else:\n",
    "    client = Client(account_sid, auth_token)\n",
    "\n",
    "    def verify_whatsapp_number(phone_number):\n",
    "        try:\n",
    "            # Since the library doesn't directly support v2.services, use the API endpoint directly\n",
    "            # or ensure your library is up-to-date\n",
    "            verification = client.verify.v2.services(verify_service_sid) \\\n",
    "                .verifications \\\n",
    "                .create(to=phone_number, channel='whatsapp')\n",
    "            print(f\"Verification initiated for {phone_number} with status: {verification.status}\")\n",
    "            return True\n",
    "        except Exception as e:\n",
    "            print(f\"Error verifying {phone_number}: {e}\")\n",
    "            return False\n",
    "\n",
    "    # Example usage\n",
    "    phone_number_to_verify = '+919008603331'  # Replace with the phone number you want to verify (E.164 format)\n",
    "    if verify_whatsapp_number(phone_number_to_verify):\n",
    "        print(f\"A WhatsApp verification code has been sent to {phone_number_to_verify}\")\n",
    "    else:\n",
    "        print(f\"Could not send WhatsApp verification code to {phone_number_to_verify}\")\n"
   ]
  },
  {
   "cell_type": "code",
   "execution_count": 1,
   "metadata": {},
   "outputs": [],
   "source": [
    "import helper"
   ]
  },
  {
   "cell_type": "code",
   "execution_count": 3,
   "metadata": {},
   "outputs": [
    {
     "name": "stdout",
     "output_type": "stream",
     "text": [
      "Verified\n"
     ]
    }
   ],
   "source": [
    "if helper.verify_phone_number(\"+919208603331\"):\n",
    "    print(\"Verified\")\n",
    "else:\n",
    "    print(\"unverified\")"
   ]
  },
  {
   "cell_type": "code",
   "execution_count": 4,
   "metadata": {},
   "outputs": [
    {
     "data": {
      "text/plain": [
       "'https://wa.me/+919208603331?text=Hello%20nigger'"
      ]
     },
     "execution_count": 4,
     "metadata": {},
     "output_type": "execute_result"
    }
   ],
   "source": [
    "helper.generate_whatsapp_link(\"+919208603331\", message=\"Hello nigger\")"
   ]
  },
  {
   "cell_type": "code",
   "execution_count": 20,
   "metadata": {},
   "outputs": [
    {
     "name": "stdout",
     "output_type": "stream",
     "text": [
      "{'message': 'You have exceeded the MONTHLY quota for Requests on your current plan, BASIC. Upgrade your plan at https://rapidapi.com/inutil-inutil-default/api/bulk-whatsapp-validator'}\n"
     ]
    }
   ],
   "source": [
    "import requests\n",
    "\n",
    "url = \"https://bulk-whatsapp-validator.p.rapidapi.com/wchk\"\n",
    "\n",
    "querystring = {\"phone\":\"919008603331\"}\n",
    "\n",
    "headers = {\n",
    "\t\"x-rapidapi-key\": \"c308f0d79dmsh8f3a86799ba8da6p12f1dbjsn4aac765431f0\",\n",
    "\t\"x-rapidapi-host\": \"bulk-whatsapp-validator.p.rapidapi.com\"\n",
    "}\n",
    "\n",
    "response = requests.get(url, headers=headers, params=querystring)\n",
    "\n",
    "print(response.json())"
   ]
  },
  {
   "cell_type": "code",
   "execution_count": 1,
   "metadata": {},
   "outputs": [],
   "source": [
    "import helper"
   ]
  },
  {
   "cell_type": "code",
   "execution_count": 3,
   "metadata": {},
   "outputs": [
    {
     "data": {
      "text/plain": [
       "True"
      ]
     },
     "execution_count": 3,
     "metadata": {},
     "output_type": "execute_result"
    }
   ],
   "source": [
    "helper.verify_phone_number(\"+919208603331\")"
   ]
  },
  {
   "cell_type": "code",
   "execution_count": null,
   "metadata": {},
   "outputs": [
    {
     "name": "stdout",
     "output_type": "stream",
     "text": [
      "4\n",
      "4\n",
      "919008603331 is NOT registered on WhatsApp.\n"
     ]
    }
   ],
   "source": [
    "from selenium import webdriver\n",
    "from selenium.webdriver.common.by import By\n",
    "import time\n",
    "\n",
    "# Set up the WebDriver (Chrome in this case)\n",
    "driver = webdriver.Chrome()\n",
    "print(4)\n",
    "# Open WhatsApp Web\n",
    "driver.get(\"https://web.whatsapp.com/\")\n",
    "# input(\"Scan the QR code and press Enter once logged in...\")\n",
    "print(4)\n",
    "def check_whatsapp_number(phone_number):\n",
    "    url = f\"https://web.whatsapp.com/send?phone={phone_number}\"\n",
    "    driver.get(url)\n",
    "    time.sleep(10)  # Wait for page to load completely\n",
    "\n",
    "    try:\n",
    "        # Check for \"Phone number shared via url is invalid\" message\n",
    "        invalid_number = driver.find_elements(By.XPATH, \"//div[contains(text(),'Phone number shared via url is invalid')]\")\n",
    "        if invalid_number:\n",
    "            return False\n",
    "\n",
    "        # Check for presence of \"Send message\" button\n",
    "        send_message_button = driver.find_elements(By.XPATH, \"//button[contains(@aria-label, 'Send message')]\")\n",
    "        if send_message_button:\n",
    "            return True\n",
    "        else:\n",
    "            return False\n",
    "    except Exception as e:\n",
    "        print(f\"Error: {e}\")\n",
    "        return False\n",
    "\n",
    "# Example usage\n",
    "phone_number = '+919008603331'\n",
    "if check_whatsapp_number(phone_number):\n",
    "    print(f\"{phone_number} is registered on WhatsApp.\")\n",
    "else:\n",
    "    print(f\"{phone_number} is NOT registered on WhatsApp.\")\n",
    "\n",
    "driver.quit()"
   ]
  }
 ],
 "metadata": {
  "kernelspec": {
   "display_name": "Python 3",
   "language": "python",
   "name": "python3"
  },
  "language_info": {
   "codemirror_mode": {
    "name": "ipython",
    "version": 3
   },
   "file_extension": ".py",
   "mimetype": "text/x-python",
   "name": "python",
   "nbconvert_exporter": "python",
   "pygments_lexer": "ipython3",
   "version": "3.11.9"
  }
 },
 "nbformat": 4,
 "nbformat_minor": 2
}
